{
 "cells": [
  {
   "cell_type": "code",
   "execution_count": 3,
   "metadata": {},
   "outputs": [],
   "source": [
    "from db.model import Paper_WebMetaInfo, Paper_LLMSummary, Paper, Category, BaseModel\n",
    "from datetime import date "
   ]
  },
  {
   "cell_type": "code",
   "execution_count": 4,
   "metadata": {},
   "outputs": [],
   "source": [
    "Paper_LLMSummary.drop_table()\n",
    "Paper_LLMSummary.create_table()"
   ]
  },
  {
   "cell_type": "code",
   "execution_count": 5,
   "metadata": {},
   "outputs": [],
   "source": [
    "msg = \"\"\"\n",
    "### Analysis of Evolutionary Multi-Tasking as an Island Model\n",
    "\n",
    "#### Summary\n",
    "\n",
    "- **Main Points**: \n",
    "    - The paper explores the application of multifactorial evolutionary algorithms (MEFA) to solve multiple optimization tasks simultaneously using genetic programming.\n",
    "    - The authors propose using an island model for evolutionary multi-tasking, aiming to enhance the results by addressing potential limitations of traditional MEFA.\n",
    "    - Comparisons between the island model and MEFA are drawn through various computational experiments on different benchmark problems.\n",
    "    \n",
    "- **Findings**:\n",
    "    - The island model demonstrated better performance compared to traditional MEFA, especially on tasks with varied complexity.\n",
    "    - By limiting interaction between tasks within islands, exploitation capabilities improved, leading to better local optimization.\n",
    "    - The proposed model effectively addressed problems associated with task interference in evolutionary multi-tasking.\n",
    "\n",
    "### Analysis\n",
    "- **Repeated Words**: evolutionary, multi-tasking, MEFA, fitness, tasks, model, optimization, island, algorithm, individual, problem.\n",
    "- **General Idea**: \n",
    "    - The study aims to enhance evolutionary multi-tasking by employing an island model, where different tasks are isolated into different populations (islands) to improve optimization efficiency and results.\n",
    "\n",
    "- **Problem**: \n",
    "    - The study addresses the problem of interference and negative transfer in multi-task optimization when using traditional MEFA, leading to suboptimal performance.\n",
    "\n",
    "- **Proposed Solution**: \n",
    "    - The island model is proposed as a solution, wherein each island handles a specific task or set of tasks, minimizing negative interference. The migration of individuals between islands is used selectively to balance exploitation and exploration in the search space.\n",
    "...\n",
    "### Experimental Evaluation\n",
    "The experiments used benchmark problems to evaluate the performance of the proposed island model against traditional MEFA. The results indicated that the island model typically outperforms MEFA on various complexity problems, echoing the primary hypothesis behind the model's conceptualization. \n",
    "\n",
    "The findings underscore the significance of managing task interference in evolutionary computation and highlight the potential of island models in addressing this challenge.\n",
    "\"\"\""
   ]
  },
  {
   "cell_type": "code",
   "execution_count": 19,
   "metadata": {},
   "outputs": [],
   "source": [
    "paper_id = \"P-00001\"\n",
    "paper = Paper.select().join(Paper_LLMSummary, on = (Paper.paper_id == Paper_LLMSummary.paper_id)).where( (Paper_LLMSummary.prompt_id == \"L-00001\" and (Paper.paper_id == paper_id)).first()"
   ]
  },
  {
   "cell_type": "code",
   "execution_count": 20,
   "metadata": {},
   "outputs": [
    {
     "ename": "AttributeError",
     "evalue": "'Paper' object has no attribute 'summary'",
     "output_type": "error",
     "traceback": [
      "\u001b[0;31m---------------------------------------------------------------------------\u001b[0m",
      "\u001b[0;31mAttributeError\u001b[0m                            Traceback (most recent call last)",
      "Cell \u001b[0;32mIn[20], line 1\u001b[0m\n\u001b[0;32m----> 1\u001b[0m \u001b[38;5;28mprint\u001b[39m(\u001b[43mpaper\u001b[49m\u001b[38;5;241;43m.\u001b[39;49m\u001b[43msummary\u001b[49m)\n",
      "\u001b[0;31mAttributeError\u001b[0m: 'Paper' object has no attribute 'summary'"
     ]
    }
   ],
   "source": [
    "print(paper.summary)"
   ]
  },
  {
   "cell_type": "code",
   "execution_count": 7,
   "metadata": {},
   "outputs": [
    {
     "data": {
      "text/plain": [
       "0"
      ]
     },
     "execution_count": 7,
     "metadata": {},
     "output_type": "execute_result"
    }
   ],
   "source": [
    "dic = [\n",
    "    {\n",
    "        \"paper_id\": \"P-00001\",\n",
    "        \"prompt_id\": \"L-00001\",\n",
    "        \"summary\": msg,\n",
    "    }\n",
    "]\n",
    "# Sample.drop_table()\n",
    "Paper_LLMSummary.insert_many(dic).execute()"
   ]
  },
  {
   "cell_type": "code",
   "execution_count": 9,
   "metadata": {},
   "outputs": [],
   "source": [
    "sample = Sample(id = 10, name = \"Computer Science1\")"
   ]
  },
  {
   "cell_type": "code",
   "execution_count": 14,
   "metadata": {},
   "outputs": [
    {
     "name": "stdout",
     "output_type": "stream",
     "text": [
      "10\n"
     ]
    }
   ],
   "source": [
    "print(sample)"
   ]
  },
  {
   "cell_type": "code",
   "execution_count": 12,
   "metadata": {},
   "outputs": [
    {
     "data": {
      "text/plain": [
       "<Sample: 4>"
      ]
     },
     "execution_count": 12,
     "metadata": {},
     "output_type": "execute_result"
    }
   ],
   "source": [
    "sample.create()"
   ]
  },
  {
   "cell_type": "code",
   "execution_count": 11,
   "metadata": {},
   "outputs": [],
   "source": [
    "target_table = Paper_LLMSummary"
   ]
  },
  {
   "cell_type": "code",
   "execution_count": 2,
   "metadata": {},
   "outputs": [],
   "source": [
    "dic= {\n",
    "            \"paper_id\": \"P-11117\",\n",
    "            \"title\": \"Effects of local mating in inter-task crossover on the performance of decomposition-based evolutionary multiobjective multitask optimization algorithms\",\n",
    "            \"abstract\": \"This paper discusses innovative approaches to machine learning.\",\n",
    "            \"description\": \"\",\n",
    "            \"source_reference\": \"2020 IEEE Congress on Evolutionary Computation (CEC)\",\n",
    "            \"url\": \"https://ieeexplore.ieee.org/abstract/document/9185871/\",\n",
    "            \"public_date\": date(2020, 7, 19),\n",
    "            \"created_at\": date(2024, 6, 22),\n",
    "            \"last_modified\": date(2024, 6, 22),\n",
    "}"
   ]
  },
  {
   "cell_type": "code",
   "execution_count": 12,
   "metadata": {},
   "outputs": [],
   "source": [
    "sample_papers = [\n",
    "    {\n",
    "        \"paper_id\": \"paper_001\",\n",
    "        \"title\": \"Sample Paper 1\",\n",
    "        \"abstract\": \"This is the abstract for sample paper 1.\",\n",
    "        \"description\": \"Detailed description of sample paper 1.\",\n",
    "        \"source_reference\": \"Reference 1\",\n",
    "        \"url\": \"http://example.com/paper_1\",\n",
    "        \"public_date\": date(2023, 1, 15),\n",
    "        \"created_at\": date(2023, 1, 1),\n",
    "        \"last_modified\": date(2023, 1, 2)\n",
    "    }]"
   ]
  },
  {
   "cell_type": "code",
   "execution_count": 13,
   "metadata": {},
   "outputs": [],
   "source": [
    "for paper_data in sample_papers:\n",
    "    paper = Paper(\n",
    "                paper_id=paper_data[\"paper_id\"],\n",
    "                title=paper_data[\"title\"],\n",
    "                abstract=paper_data[\"abstract\"],\n",
    "                description=paper_data[\"description\"],\n",
    "                source_reference=paper_data[\"source_reference\"],\n",
    "                url=paper_data[\"url\"],\n",
    "                public_date=paper_data[\"public_date\"],\n",
    "                created_at=paper_data[\"created_at\"],\n",
    "                last_modified=paper_data[\"last_modified\"]\n",
    "            )"
   ]
  },
  {
   "cell_type": "code",
   "execution_count": 5,
   "metadata": {},
   "outputs": [
    {
     "data": {
      "text/plain": [
       "datetime.date(2023, 1, 15)"
      ]
     },
     "execution_count": 5,
     "metadata": {},
     "output_type": "execute_result"
    }
   ],
   "source": [
    "date(2023, 1, 15)"
   ]
  },
  {
   "cell_type": "code",
   "execution_count": 4,
   "metadata": {},
   "outputs": [
    {
     "data": {
      "text/plain": [
       "0"
      ]
     },
     "execution_count": 4,
     "metadata": {},
     "output_type": "execute_result"
    }
   ],
   "source": [
    "Paper.insert(**dic).execute()\n",
    "# p.save()"
   ]
  },
  {
   "cell_type": "code",
   "execution_count": null,
   "metadata": {},
   "outputs": [
    {
     "data": {
      "text/plain": [
       "{'paper_id': 'P-11116',\n",
       " 'title': 'Effects of local mating in inter-task crossover on the performance of decomposition-based evolutionary multiobjective multitask optimization algorithms',\n",
       " 'created_at': datetime.date(2024, 6, 22),\n",
       " 'last_modified': datetime.date(2024, 6, 22)}"
      ]
     },
     "execution_count": 5,
     "metadata": {},
     "output_type": "execute_result"
    }
   ],
   "source": [
    "dic"
   ]
  },
  {
   "cell_type": "code",
   "execution_count": null,
   "metadata": {},
   "outputs": [
    {
     "name": "stdout",
     "output_type": "stream",
     "text": [
      "P-00001 Analysis of evolutionary multi-tasking as an island model This paper discusses innovative approaches to machine learning.  Proceedings of the genetic and evolutionary computation conference companion https://dl.acm.org/doi/abs/10.1145/3205651.3208228 2018-07-06 2024-06-22 2024-06-22\n",
      "P-00002 Effects of local mating in inter-task crossover on the performance of decomposition-based evolutionary multiobjective multitask optimization algorithms This paper discusses innovative approaches to machine learning.  2020 IEEE Congress on Evolutionary Computation (CEC) https://ieeexplore.ieee.org/abstract/document/9185871/ 2020-07-19 2024-06-22 2024-06-22\n",
      "P-00003 sample     None 2024-06-23 2024-06-23\n"
     ]
    }
   ],
   "source": [
    "for a in Paper.select():\n",
    "    print(a.paper_id, a.title, a.abstract, a.description, a.source_reference, a.url, a.public_date, a.created_at, a.last_modified)"
   ]
  },
  {
   "cell_type": "code",
   "execution_count": null,
   "metadata": {},
   "outputs": [
    {
     "data": {
      "text/plain": [
       "1"
      ]
     },
     "execution_count": 9,
     "metadata": {},
     "output_type": "execute_result"
    }
   ],
   "source": [
    "Paper_WebMetaInfo.get(Paper_WebMetaInfo.paper_id == \"P-11117\").delete_instance()"
   ]
  },
  {
   "cell_type": "code",
   "execution_count": null,
   "metadata": {},
   "outputs": [
    {
     "data": {
      "text/plain": [
       "1"
      ]
     },
     "execution_count": 10,
     "metadata": {},
     "output_type": "execute_result"
    }
   ],
   "source": [
    "Paper.get(Paper.paper_id == \"P-11117\").delete_instance()"
   ]
  },
  {
   "cell_type": "code",
   "execution_count": null,
   "metadata": {},
   "outputs": [],
   "source": []
  }
 ],
 "metadata": {
  "kernelspec": {
   "display_name": "work-3UyvmeC2-py3.11",
   "language": "python",
   "name": "python3"
  },
  "language_info": {
   "codemirror_mode": {
    "name": "ipython",
    "version": 3
   },
   "file_extension": ".py",
   "mimetype": "text/x-python",
   "name": "python",
   "nbconvert_exporter": "python",
   "pygments_lexer": "ipython3",
   "version": "3.11.9"
  }
 },
 "nbformat": 4,
 "nbformat_minor": 2
}

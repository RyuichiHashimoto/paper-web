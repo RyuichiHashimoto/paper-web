{
 "cells": [
  {
   "cell_type": "code",
   "execution_count": 1,
   "metadata": {},
   "outputs": [],
   "source": [
    "import pdf2image\n",
    "import base64\n",
    "from io import BytesIO\n",
    "from llmlib.summalizer import summarize_paper_summary_via_image\n"
   ]
  },
  {
   "cell_type": "code",
   "execution_count": 2,
   "metadata": {},
   "outputs": [],
   "source": [
    "ret = summarize_paper_summary_via_image(\"/home/work/notebook/sample.pdf\")"
   ]
  },
  {
   "cell_type": "code",
   "execution_count": 9,
   "metadata": {},
   "outputs": [
    {
     "name": "stdout",
     "output_type": "stream",
     "text": [
      "### Analysis of Evolutionary Multi-Tasking as an Island Model\n",
      "\n",
      "#### Summary\n",
      "\n",
      "- **Main Points**: \n",
      "    - The paper explores the application of multifactorial evolutionary algorithms (MEFA) to solve multiple optimization tasks simultaneously using genetic programming.\n",
      "    - The authors propose using an island model for evolutionary multi-tasking, aiming to enhance the results by addressing potential limitations of traditional MEFA.\n",
      "    - Comparisons between the island model and MEFA are drawn through various computational experiments on different benchmark problems.\n",
      "    \n",
      "- **Findings**:\n",
      "    - The island model demonstrated better performance compared to traditional MEFA, especially on tasks with varied complexity.\n",
      "    - By limiting interaction between tasks within islands, exploitation capabilities improved, leading to better local optimization.\n",
      "    - The proposed model effectively addressed problems associated with task interference in evolutionary multi-tasking.\n",
      "\n",
      "### Analysis\n",
      "- **Repeated Words**: evolutionary, multi-tasking, MEFA, fitness, tasks, model, optimization, island, algorithm, individual, problem.\n",
      "- **General Idea**: \n",
      "    - The study aims to enhance evolutionary multi-tasking by employing an island model, where different tasks are isolated into different populations (islands) to improve optimization efficiency and results.\n",
      "\n",
      "- **Problem**: \n",
      "    - The study addresses the problem of interference and negative transfer in multi-task optimization when using traditional MEFA, leading to suboptimal performance.\n",
      "\n",
      "- **Proposed Solution**: \n",
      "    - The island model is proposed as a solution, wherein each island handles a specific task or set of tasks, minimizing negative interference. The migration of individuals between islands is used selectively to balance exploitation and exploration in the search space.\n",
      "\n",
      "### Detailed Objective of the Paper\n",
      "The objective of the research is to improve the efficacy of evolutionary multi-tasking by introducing an island model that isolates tasks into separate populations (islands) while enabling occasional inter-island migrations. This method aims to combine the benefits of focused local search within each island and coordinated global search.\n",
      "\n",
      "### Experimental Evaluation\n",
      "The experiments used benchmark problems to evaluate the performance of the proposed island model against traditional MEFA. The results indicated that the island model typically outperforms MEFA on various complexity problems, echoing the primary hypothesis behind the model's conceptualization. \n",
      "\n",
      "The findings underscore the significance of managing task interference in evolutionary computation and highlight the potential of island models in addressing this challenge.\n"
     ]
    }
   ],
   "source": [
    "print(ret.content)"
   ]
  },
  {
   "cell_type": "code",
   "execution_count": null,
   "metadata": {},
   "outputs": [],
   "source": [
    "from db.model import Model"
   ]
  },
  {
   "cell_type": "code",
   "execution_count": 16,
   "metadata": {},
   "outputs": [],
   "source": []
  },
  {
   "cell_type": "code",
   "execution_count": null,
   "metadata": {},
   "outputs": [],
   "source": []
  },
  {
   "cell_type": "code",
   "execution_count": 7,
   "metadata": {},
   "outputs": [],
   "source": [
    "ret = pdf_to_base64(\"/home/work/notebook/sample.pdf\")"
   ]
  },
  {
   "cell_type": "code",
   "execution_count": 17,
   "metadata": {},
   "outputs": [
    {
     "name": "stdout",
     "output_type": "stream",
     "text": [
      "Time: 0:00:31.819243\n",
      "ochiai_gpt4o_withimage:\n",
      "CompletionUsage(completion_tokens=1123, prompt_tokens=567, total_tokens=1690)\n"
     ]
    }
   ],
   "source": [
    "a = generate_paper_summary_ochiai(ret)"
   ]
  },
  {
   "cell_type": "code",
   "execution_count": 19,
   "metadata": {},
   "outputs": [
    {
     "name": "stdout",
     "output_type": "stream",
     "text": [
      "# Analysis of Evolutionary Multi-Tasking as an Island Model\n",
      "\n",
      "date: 2018-07-15\n",
      "categories: アルゴリズム, 進化計算\n",
      "\n",
      "## 1. どんなもの？\n",
      "この論文では、進化的マルチタスクを特定の問題解決法（アイランドモデル）として解析しています。アイランドモデルでは、複数の独立した個体群が異なるタスクに取り組み、各個体群の間で周期的に個体が交流します。これにより、マルチタスク進化アルゴリズムの有効性と効率性が向上することを目指しています。\n",
      "\n",
      "## 2. 先行研究と比べてどこがすごいの？\n",
      "従来の進化的マルチタスクアルゴリズム（MFEA）に対し、提案するアイランドモデルではタスク間の情報交換の方法を工夫しています。特に、異なるタスクに専用の個体群を持たせることで、効率的に各タスクの解を探ることができます。これによって、タスク間の干渉を抑えつつ、協調的な進化を実現しています。\n",
      "\n",
      "## 3. 技術や手法の\"キモ\"はどこにある？\n",
      "アイランドモデルのキモは、個体群内および個体群間の情報交換方法です。具体的には、異なるタスク用に分割された個体群が、一定の頻度で個体を交換し、各個体群の適応度を向上させるように設計されています。この手法により、各タスクの探索効率が向上し、全体的なソリューションの品質が向上します。\n",
      "\n",
      "## 4. どうやって有効だと検証した？\n",
      "実験では、クラシックなベンチマークタスク（連続的な関数最適化問題）を用いて、従来のMFEAと提案モデルの性能を比較検証しました。パフォーマンスの評価には、収束速度と解の品質が用いられました。その結果、提案モデルは、特に複数の異なるタスクが存在する場合において、従来の方法よりも優れた結果を示しました。\n",
      "\n",
      "## 5. 議論はあるか？\n",
      "論文の結果はアイランドモデルが効果的であることを示していますが、タスクの相互関係や個体群の分割方法についてのより詳細な研究が必要です。また、異なるタイプの問題や実世界の応用に対しても、このモデルがどれほど有効なのかについてはさらなる検証が求められます。\n",
      "\n",
      "## 6. 次に読むべき論文はあるか？\n",
      "- K. Deb, H. Jain, \"An Evolutionary Many-Objective Optimization Algorithm Using Reference-Point-Based Nondominated Sorting Approach, Part I: Solving Problems With Box Constraints,\" IEEE Trans. Evolutionary Computation, vol. 18, no. 4, pp. 577-601, 2014.\n",
      "- A. Gupta, Y.-S. Ong, L. Feng \"Multifactorial Evolution: Toward Evolutionary Multitasking,\" IEEE Trans. Evolutionary Computation, vol. 20, no. 3, pp. 343-357, 2016.\n",
      "\n",
      "## 7. 想定される質問と回答\n",
      "### Q1: アイランドモデルのメリットは何ですか？\n",
      "A1: アイランドモデルは、異なるタスクごとに個体群を分け、それらの間で適切な交流を行うことで、各タスクの解を効率的に探すことができます。これにより、全体的な探索効率と解の品質が向上します。\n",
      "\n",
      "### Q2: 提案モデルの主な欠点は何ですか？\n",
      "A2: 提案モデルの欠点としては、個体群間の交流の設計が複雑であり、最適なパラメータ設定が必要である点が挙げられます。また、特定のタイプのタスクにおいては、適用が難しい場合があります。\n",
      "\n",
      "### Q3: 実際の応用でどのように活用できますか？\n",
      "A3: 実際の応用例としては、多目的最適化問題やリアルタイムシステムのスケジューリング問題など、多様なタスクが同時に存在するシナリオに対して有効です。\n",
      "\n",
      "## 論文情報・リンク\n",
      "- [R. Hashimoto, N. Masuyama, H. Ishibuchi, and Y. Nojima, \"Analysis of Evolutionary Multi-Tasking as an Island Model,\" GECCO'18, pp. 1193-1200, 2018](https://doi.org/10.1145/3205455.3205523)\n"
     ]
    }
   ],
   "source": [
    "print(a)"
   ]
  },
  {
   "cell_type": "code",
   "execution_count": 6,
   "metadata": {},
   "outputs": [
    {
     "data": {
      "text/plain": [
       "'raw/cec664dd-e778-4cb3-92b6-0ac1ecafb9f5.pdf'"
      ]
     },
     "execution_count": 6,
     "metadata": {},
     "output_type": "execute_result"
    }
   ],
   "source": [
    "ret = Paper_WebMetaInfo.get(Paper_WebMetaInfo.paper_id == \"P-00001\")\n",
    "getattr(ret, \"cloudfilepath\")"
   ]
  },
  {
   "cell_type": "code",
   "execution_count": 7,
   "metadata": {},
   "outputs": [],
   "source": [
    "def get_cloudfilepath_from_paper_id(paper_id: str) -> str | None:\n",
    "    try:\n",
    "        ret = Paper_WebMetaInfo.get(Paper_WebMetaInfo.paper_id == \"P-00001\")\n",
    "        return getattr(ret, \"cloudfilepath\")\n",
    "    except DoesNotExist: \n",
    "        return None\n",
    "\n",
    "    "
   ]
  },
  {
   "cell_type": "code",
   "execution_count": 8,
   "metadata": {},
   "outputs": [
    {
     "ename": "Paper_WebMetaInfoDoesNotExist",
     "evalue": "<Model: Paper_WebMetaInfo> instance matching query does not exist:\nSQL: SELECT `t1`.`id`, `t1`.`paper_id`, `t1`.`visible`, `t1`.`cloudfilepath` FROM `paper_webmetainfo` AS `t1` WHERE (`t1`.`paper_id` = %s) LIMIT %s OFFSET %s\nParams: ['sa', 1, 0]",
     "output_type": "error",
     "traceback": [
      "\u001b[0;31m---------------------------------------------------------------------------\u001b[0m",
      "\u001b[0;31mIndexError\u001b[0m                                Traceback (most recent call last)",
      "File \u001b[0;32m~/.cache/pypoetry/virtualenvs/work-3UyvmeC2-py3.11/lib/python3.11/site-packages/peewee.py:7270\u001b[0m, in \u001b[0;36mBaseModelSelect.get\u001b[0;34m(self, database)\u001b[0m\n\u001b[1;32m   7269\u001b[0m \u001b[38;5;28;01mtry\u001b[39;00m:\n\u001b[0;32m-> 7270\u001b[0m     \u001b[38;5;28;01mreturn\u001b[39;00m \u001b[43mclone\u001b[49m\u001b[38;5;241;43m.\u001b[39;49m\u001b[43mexecute\u001b[49m\u001b[43m(\u001b[49m\u001b[43mdatabase\u001b[49m\u001b[43m)\u001b[49m\u001b[43m[\u001b[49m\u001b[38;5;241;43m0\u001b[39;49m\u001b[43m]\u001b[49m\n\u001b[1;32m   7271\u001b[0m \u001b[38;5;28;01mexcept\u001b[39;00m \u001b[38;5;167;01mIndexError\u001b[39;00m:\n",
      "File \u001b[0;32m~/.cache/pypoetry/virtualenvs/work-3UyvmeC2-py3.11/lib/python3.11/site-packages/peewee.py:4570\u001b[0m, in \u001b[0;36mCursorWrapper.__getitem__\u001b[0;34m(self, item)\u001b[0m\n\u001b[1;32m   4569\u001b[0m     \u001b[38;5;28mself\u001b[39m\u001b[38;5;241m.\u001b[39mfill_cache(item \u001b[38;5;28;01mif\u001b[39;00m item \u001b[38;5;241m>\u001b[39m \u001b[38;5;241m0\u001b[39m \u001b[38;5;28;01melse\u001b[39;00m \u001b[38;5;241m0\u001b[39m)\n\u001b[0;32m-> 4570\u001b[0m     \u001b[38;5;28;01mreturn\u001b[39;00m \u001b[38;5;28;43mself\u001b[39;49m\u001b[38;5;241;43m.\u001b[39;49m\u001b[43mrow_cache\u001b[49m\u001b[43m[\u001b[49m\u001b[43mitem\u001b[49m\u001b[43m]\u001b[49m\n\u001b[1;32m   4571\u001b[0m \u001b[38;5;28;01melse\u001b[39;00m:\n",
      "\u001b[0;31mIndexError\u001b[0m: list index out of range",
      "\nDuring handling of the above exception, another exception occurred:\n",
      "\u001b[0;31mPaper_WebMetaInfoDoesNotExist\u001b[0m             Traceback (most recent call last)",
      "Cell \u001b[0;32mIn[8], line 1\u001b[0m\n\u001b[0;32m----> 1\u001b[0m \u001b[43mget_cloudfilepath_from_paper_id\u001b[49m\u001b[43m(\u001b[49m\u001b[38;5;124;43m\"\u001b[39;49m\u001b[38;5;124;43msa\u001b[39;49m\u001b[38;5;124;43m\"\u001b[39;49m\u001b[43m)\u001b[49m\n",
      "Cell \u001b[0;32mIn[7], line 2\u001b[0m, in \u001b[0;36mget_cloudfilepath_from_paper_id\u001b[0;34m(paper_id)\u001b[0m\n\u001b[1;32m      1\u001b[0m \u001b[38;5;28;01mdef\u001b[39;00m \u001b[38;5;21mget_cloudfilepath_from_paper_id\u001b[39m(paper_id: \u001b[38;5;28mstr\u001b[39m) \u001b[38;5;241m-\u001b[39m\u001b[38;5;241m>\u001b[39m \u001b[38;5;28mstr\u001b[39m \u001b[38;5;241m|\u001b[39m \u001b[38;5;28;01mNone\u001b[39;00m:\n\u001b[0;32m----> 2\u001b[0m     ret \u001b[38;5;241m=\u001b[39m \u001b[43mPaper_WebMetaInfo\u001b[49m\u001b[38;5;241;43m.\u001b[39;49m\u001b[43mget\u001b[49m\u001b[43m(\u001b[49m\u001b[43mPaper_WebMetaInfo\u001b[49m\u001b[38;5;241;43m.\u001b[39;49m\u001b[43mpaper_id\u001b[49m\u001b[43m \u001b[49m\u001b[38;5;241;43m==\u001b[39;49m\u001b[43m \u001b[49m\u001b[43mpaper_id\u001b[49m\u001b[43m)\u001b[49m\n\u001b[1;32m      3\u001b[0m     \u001b[38;5;28;01mreturn\u001b[39;00m \u001b[38;5;28mgetattr\u001b[39m(ret, \u001b[38;5;124m\"\u001b[39m\u001b[38;5;124mcloudfilepath\u001b[39m\u001b[38;5;124m\"\u001b[39m)\n",
      "File \u001b[0;32m~/.cache/pypoetry/virtualenvs/work-3UyvmeC2-py3.11/lib/python3.11/site-packages/peewee.py:6822\u001b[0m, in \u001b[0;36mModel.get\u001b[0;34m(cls, *query, **filters)\u001b[0m\n\u001b[1;32m   6820\u001b[0m \u001b[38;5;28;01mif\u001b[39;00m filters:\n\u001b[1;32m   6821\u001b[0m     sq \u001b[38;5;241m=\u001b[39m sq\u001b[38;5;241m.\u001b[39mfilter(\u001b[38;5;241m*\u001b[39m\u001b[38;5;241m*\u001b[39mfilters)\n\u001b[0;32m-> 6822\u001b[0m \u001b[38;5;28;01mreturn\u001b[39;00m \u001b[43msq\u001b[49m\u001b[38;5;241;43m.\u001b[39;49m\u001b[43mget\u001b[49m\u001b[43m(\u001b[49m\u001b[43m)\u001b[49m\n",
      "File \u001b[0;32m~/.cache/pypoetry/virtualenvs/work-3UyvmeC2-py3.11/lib/python3.11/site-packages/peewee.py:7273\u001b[0m, in \u001b[0;36mBaseModelSelect.get\u001b[0;34m(self, database)\u001b[0m\n\u001b[1;32m   7271\u001b[0m \u001b[38;5;28;01mexcept\u001b[39;00m \u001b[38;5;167;01mIndexError\u001b[39;00m:\n\u001b[1;32m   7272\u001b[0m     sql, params \u001b[38;5;241m=\u001b[39m clone\u001b[38;5;241m.\u001b[39msql()\n\u001b[0;32m-> 7273\u001b[0m     \u001b[38;5;28;01mraise\u001b[39;00m \u001b[38;5;28mself\u001b[39m\u001b[38;5;241m.\u001b[39mmodel\u001b[38;5;241m.\u001b[39mDoesNotExist(\u001b[38;5;124m'\u001b[39m\u001b[38;5;132;01m%s\u001b[39;00m\u001b[38;5;124m instance matching query does \u001b[39m\u001b[38;5;124m'\u001b[39m\n\u001b[1;32m   7274\u001b[0m                                   \u001b[38;5;124m'\u001b[39m\u001b[38;5;124mnot exist:\u001b[39m\u001b[38;5;130;01m\\n\u001b[39;00m\u001b[38;5;124mSQL: \u001b[39m\u001b[38;5;132;01m%s\u001b[39;00m\u001b[38;5;130;01m\\n\u001b[39;00m\u001b[38;5;124mParams: \u001b[39m\u001b[38;5;132;01m%s\u001b[39;00m\u001b[38;5;124m'\u001b[39m \u001b[38;5;241m%\u001b[39m\n\u001b[1;32m   7275\u001b[0m                                   (clone\u001b[38;5;241m.\u001b[39mmodel, sql, params))\n",
      "\u001b[0;31mPaper_WebMetaInfoDoesNotExist\u001b[0m: <Model: Paper_WebMetaInfo> instance matching query does not exist:\nSQL: SELECT `t1`.`id`, `t1`.`paper_id`, `t1`.`visible`, `t1`.`cloudfilepath` FROM `paper_webmetainfo` AS `t1` WHERE (`t1`.`paper_id` = %s) LIMIT %s OFFSET %s\nParams: ['sa', 1, 0]"
     ]
    }
   ],
   "source": [
    "from peewee import DoesNotExist\n",
    "try:\n",
    "    get_cloudfilepath_from_paper_id(\"sa\")\n",
    "except DoesNotExist: \n",
    "    return \"DoesNotExist\", 504\n"
   ]
  },
  {
   "cell_type": "code",
   "execution_count": 8,
   "metadata": {},
   "outputs": [],
   "source": [
    "data = \"\"\"### Analysis of Evolutionary Multi-Tasking as an Island Model\n",
    "\n",
    "#### Summary\n",
    "\n",
    "- **Main Points**: \n",
    "    - The paper explores the application of multifactorial evolutionary algorithms (MEFA) to solve multiple optimization tasks simultaneously using genetic programming.\n",
    "    - The authors propose using an island model for evolutionary multi-tasking, aiming to enhance the results by addressing potential limitations of traditional MEFA.\n",
    "    - Comparisons between the island model and MEFA are drawn through various computational experiments on different benchmark problems.\n",
    "    \n",
    "- **Findings**:\n",
    "    - The island model demonstrated better performance compared to traditional MEFA, especially on tasks with varied complexity.\n",
    "    - By limiting interaction between tasks within islands, exploitation capabilities improved, leading to better local optimization.\n",
    "    - The proposed model effectively addressed problems associated with task interference in evolutionary multi-tasking.\n",
    "\n",
    "### Analysis\n",
    "- **Repeated Words**: evolutionary, multi-tasking, MEFA, fitness, tasks, model, optimization, island, algorithm, individual, problem.\n",
    "- **General Idea**: \n",
    "    - The study aims to enhance evolutionary multi-tasking by employing an island model, where different tasks are isolated into different populations (islands) to improve optimization efficiency and results.\n",
    "\n",
    "- **Problem**: \n",
    "    - The study addresses the problem of interference and negative transfer in multi-task optimization when using traditional MEFA, leading to suboptimal performance.\n",
    "\n",
    "- **Proposed Solution**: \n",
    "    - The island model is proposed as a solution, wherein each island handles a specific task or set of tasks, minimizing negative interference. The migration of individuals between islands is used selectively to balance exploitation and exploration in the search space.\n",
    "...\n",
    "### Experimental Evaluation\n",
    "The experiments used benchmark problems to evaluate the performance of the proposed island model against traditional MEFA. The results indicated that the island model typically outperforms MEFA on various complexity problems, echoing the primary hypothesis behind the model's conceptualization. \n",
    "\n",
    "The findings underscore the significance of managing task interference in evolutionary computation and highlight the potential of island models in addressing this challenge.\"\"\""
   ]
  },
  {
   "cell_type": "code",
   "execution_count": null,
   "metadata": {},
   "outputs": [],
   "source": []
  }
 ],
 "metadata": {
  "kernelspec": {
   "display_name": "work-3UyvmeC2-py3.11",
   "language": "python",
   "name": "python3"
  },
  "language_info": {
   "codemirror_mode": {
    "name": "ipython",
    "version": 3
   },
   "file_extension": ".py",
   "mimetype": "text/x-python",
   "name": "python",
   "nbconvert_exporter": "python",
   "pygments_lexer": "ipython3",
   "version": "3.11.9"
  }
 },
 "nbformat": 4,
 "nbformat_minor": 2
}

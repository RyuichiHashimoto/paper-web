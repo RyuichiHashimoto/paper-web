{
 "cells": [
  {
   "cell_type": "code",
   "execution_count": 15,
   "metadata": {},
   "outputs": [],
   "source": [
    "from db.db import DB\n",
    "from db.model import Paper, Category, PaperCategory, Author, PaperAuthor, Chapter\n",
    "from datetime import date\n",
    "from playhouse.shortcuts import model_to_dict"
   ]
  },
  {
   "cell_type": "code",
   "execution_count": 7,
   "metadata": {},
   "outputs": [],
   "source": [
    "paper_id = \"P-00001\""
   ]
  },
  {
   "cell_type": "code",
   "execution_count": 8,
   "metadata": {},
   "outputs": [],
   "source": [
    "paper = Paper.select().where(Paper.paper_id == paper_id)"
   ]
  },
  {
   "cell_type": "code",
   "execution_count": 17,
   "metadata": {},
   "outputs": [],
   "source": [
    "authors = Author.select().join(PaperAuthor, on=(Author.author_id == PaperAuthor.author_id)).where(PaperAuthor.paper_id == paper_id)"
   ]
  },
  {
   "cell_type": "code",
   "execution_count": 18,
   "metadata": {},
   "outputs": [
    {
     "name": "stdout",
     "output_type": "stream",
     "text": [
      "{'author_id': 'A-00001', 'name': 'Ryuichi Hashimoto', 'affiliation': 'Osaka Prefecture University'}\n",
      "{'author_id': 'A-00002', 'name': 'Hisao Ishibuchi', 'affiliation': 'Osaka Prefecture University'}\n",
      "{'author_id': 'A-00003', 'name': 'Naoki Masuyama', 'affiliation': 'Osaka Prefecture University'}\n",
      "{'author_id': 'A-00004', 'name': 'Yusuke Nojima', 'affiliation': 'Osaka Prefecture University'}\n"
     ]
    }
   ],
   "source": [
    "for a in authors:\n",
    "    print(model_to_dict(a))"
   ]
  },
  {
   "cell_type": "code",
   "execution_count": null,
   "metadata": {},
   "outputs": [],
   "source": []
  }
 ],
 "metadata": {
  "kernelspec": {
   "display_name": "work-3UyvmeC2-py3.11",
   "language": "python",
   "name": "python3"
  },
  "language_info": {
   "codemirror_mode": {
    "name": "ipython",
    "version": 3
   },
   "file_extension": ".py",
   "mimetype": "text/x-python",
   "name": "python",
   "nbconvert_exporter": "python",
   "pygments_lexer": "ipython3",
   "version": "3.11.9"
  }
 },
 "nbformat": 4,
 "nbformat_minor": 2
}

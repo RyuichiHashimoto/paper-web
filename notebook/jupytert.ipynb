{
 "cells": [
  {
   "cell_type": "code",
   "execution_count": 2,
   "metadata": {},
   "outputs": [],
   "source": [
    "from db.model import Paper, Author, PaperAuthor, Paper_WebMetaInfo\n",
    "from datetime import date\n",
    "from playhouse.shortcuts import model_to_dict\n",
    "import uuid"
   ]
  },
  {
   "cell_type": "code",
   "execution_count": 9,
   "metadata": {},
   "outputs": [],
   "source": [
    "target_table = Paper_WebMetaInfo"
   ]
  },
  {
   "cell_type": "code",
   "execution_count": 17,
   "metadata": {},
   "outputs": [],
   "source": [
    "target_table.drop_table()\n",
    "target_table.create_table()"
   ]
  },
  {
   "cell_type": "code",
   "execution_count": 18,
   "metadata": {},
   "outputs": [],
   "source": [
    "data = [\n",
    "    {\n",
    "        \"paper_id\": \"P-00001\",\n",
    "        \"hashmap\": f\"raw/cec664dd-e778-4cb3-92b6-0ac1ecafb9f5.pdf\",\n",
    "    },\n",
    "    {\n",
    "        \"paper_id\": \"P-00002\",\n",
    "        \"hashmap\": f\"raw/0b50b30c-ec6a-41f8-b67f-3cba90330362.pdf\",\n",
    "    }\n",
    "]"
   ]
  },
  {
   "cell_type": "code",
   "execution_count": 4,
   "metadata": {},
   "outputs": [
    {
     "data": {
      "text/plain": [
       "<peewee.ModelDictCursorWrapper at 0x7f1c382c1310>"
      ]
     },
     "execution_count": 4,
     "metadata": {},
     "output_type": "execute_result"
    }
   ],
   "source": [
    "Paper_WebMetaInfo.select(Paper_WebMetaInfo.cloudfilepath).where(Paper_WebMetaInfo.paper_id == \"P-00001\").dicts().execute()"
   ]
  },
  {
   "cell_type": "code",
   "execution_count": 6,
   "metadata": {},
   "outputs": [
    {
     "data": {
      "text/plain": [
       "'raw/cec664dd-e778-4cb3-92b6-0ac1ecafb9f5.pdf'"
      ]
     },
     "execution_count": 6,
     "metadata": {},
     "output_type": "execute_result"
    }
   ],
   "source": [
    "ret = Paper_WebMetaInfo.get(Paper_WebMetaInfo.paper_id == \"P-00001\")\n",
    "getattr(ret, \"cloudfilepath\")"
   ]
  },
  {
   "cell_type": "code",
   "execution_count": 7,
   "metadata": {},
   "outputs": [],
   "source": [
    "def get_cloudfilepath_from_paper_id(paper_id: str) -> str | None:\n",
    "    try:\n",
    "        ret = Paper_WebMetaInfo.get(Paper_WebMetaInfo.paper_id == \"P-00001\")\n",
    "        return getattr(ret, \"cloudfilepath\")\n",
    "    except DoesNotExist: \n",
    "        return None\n",
    "\n",
    "    "
   ]
  },
  {
   "cell_type": "code",
   "execution_count": 8,
   "metadata": {},
   "outputs": [
    {
     "ename": "Paper_WebMetaInfoDoesNotExist",
     "evalue": "<Model: Paper_WebMetaInfo> instance matching query does not exist:\nSQL: SELECT `t1`.`id`, `t1`.`paper_id`, `t1`.`visible`, `t1`.`cloudfilepath` FROM `paper_webmetainfo` AS `t1` WHERE (`t1`.`paper_id` = %s) LIMIT %s OFFSET %s\nParams: ['sa', 1, 0]",
     "output_type": "error",
     "traceback": [
      "\u001b[0;31m---------------------------------------------------------------------------\u001b[0m",
      "\u001b[0;31mIndexError\u001b[0m                                Traceback (most recent call last)",
      "File \u001b[0;32m~/.cache/pypoetry/virtualenvs/work-3UyvmeC2-py3.11/lib/python3.11/site-packages/peewee.py:7270\u001b[0m, in \u001b[0;36mBaseModelSelect.get\u001b[0;34m(self, database)\u001b[0m\n\u001b[1;32m   7269\u001b[0m \u001b[38;5;28;01mtry\u001b[39;00m:\n\u001b[0;32m-> 7270\u001b[0m     \u001b[38;5;28;01mreturn\u001b[39;00m \u001b[43mclone\u001b[49m\u001b[38;5;241;43m.\u001b[39;49m\u001b[43mexecute\u001b[49m\u001b[43m(\u001b[49m\u001b[43mdatabase\u001b[49m\u001b[43m)\u001b[49m\u001b[43m[\u001b[49m\u001b[38;5;241;43m0\u001b[39;49m\u001b[43m]\u001b[49m\n\u001b[1;32m   7271\u001b[0m \u001b[38;5;28;01mexcept\u001b[39;00m \u001b[38;5;167;01mIndexError\u001b[39;00m:\n",
      "File \u001b[0;32m~/.cache/pypoetry/virtualenvs/work-3UyvmeC2-py3.11/lib/python3.11/site-packages/peewee.py:4570\u001b[0m, in \u001b[0;36mCursorWrapper.__getitem__\u001b[0;34m(self, item)\u001b[0m\n\u001b[1;32m   4569\u001b[0m     \u001b[38;5;28mself\u001b[39m\u001b[38;5;241m.\u001b[39mfill_cache(item \u001b[38;5;28;01mif\u001b[39;00m item \u001b[38;5;241m>\u001b[39m \u001b[38;5;241m0\u001b[39m \u001b[38;5;28;01melse\u001b[39;00m \u001b[38;5;241m0\u001b[39m)\n\u001b[0;32m-> 4570\u001b[0m     \u001b[38;5;28;01mreturn\u001b[39;00m \u001b[38;5;28;43mself\u001b[39;49m\u001b[38;5;241;43m.\u001b[39;49m\u001b[43mrow_cache\u001b[49m\u001b[43m[\u001b[49m\u001b[43mitem\u001b[49m\u001b[43m]\u001b[49m\n\u001b[1;32m   4571\u001b[0m \u001b[38;5;28;01melse\u001b[39;00m:\n",
      "\u001b[0;31mIndexError\u001b[0m: list index out of range",
      "\nDuring handling of the above exception, another exception occurred:\n",
      "\u001b[0;31mPaper_WebMetaInfoDoesNotExist\u001b[0m             Traceback (most recent call last)",
      "Cell \u001b[0;32mIn[8], line 1\u001b[0m\n\u001b[0;32m----> 1\u001b[0m \u001b[43mget_cloudfilepath_from_paper_id\u001b[49m\u001b[43m(\u001b[49m\u001b[38;5;124;43m\"\u001b[39;49m\u001b[38;5;124;43msa\u001b[39;49m\u001b[38;5;124;43m\"\u001b[39;49m\u001b[43m)\u001b[49m\n",
      "Cell \u001b[0;32mIn[7], line 2\u001b[0m, in \u001b[0;36mget_cloudfilepath_from_paper_id\u001b[0;34m(paper_id)\u001b[0m\n\u001b[1;32m      1\u001b[0m \u001b[38;5;28;01mdef\u001b[39;00m \u001b[38;5;21mget_cloudfilepath_from_paper_id\u001b[39m(paper_id: \u001b[38;5;28mstr\u001b[39m) \u001b[38;5;241m-\u001b[39m\u001b[38;5;241m>\u001b[39m \u001b[38;5;28mstr\u001b[39m \u001b[38;5;241m|\u001b[39m \u001b[38;5;28;01mNone\u001b[39;00m:\n\u001b[0;32m----> 2\u001b[0m     ret \u001b[38;5;241m=\u001b[39m \u001b[43mPaper_WebMetaInfo\u001b[49m\u001b[38;5;241;43m.\u001b[39;49m\u001b[43mget\u001b[49m\u001b[43m(\u001b[49m\u001b[43mPaper_WebMetaInfo\u001b[49m\u001b[38;5;241;43m.\u001b[39;49m\u001b[43mpaper_id\u001b[49m\u001b[43m \u001b[49m\u001b[38;5;241;43m==\u001b[39;49m\u001b[43m \u001b[49m\u001b[43mpaper_id\u001b[49m\u001b[43m)\u001b[49m\n\u001b[1;32m      3\u001b[0m     \u001b[38;5;28;01mreturn\u001b[39;00m \u001b[38;5;28mgetattr\u001b[39m(ret, \u001b[38;5;124m\"\u001b[39m\u001b[38;5;124mcloudfilepath\u001b[39m\u001b[38;5;124m\"\u001b[39m)\n",
      "File \u001b[0;32m~/.cache/pypoetry/virtualenvs/work-3UyvmeC2-py3.11/lib/python3.11/site-packages/peewee.py:6822\u001b[0m, in \u001b[0;36mModel.get\u001b[0;34m(cls, *query, **filters)\u001b[0m\n\u001b[1;32m   6820\u001b[0m \u001b[38;5;28;01mif\u001b[39;00m filters:\n\u001b[1;32m   6821\u001b[0m     sq \u001b[38;5;241m=\u001b[39m sq\u001b[38;5;241m.\u001b[39mfilter(\u001b[38;5;241m*\u001b[39m\u001b[38;5;241m*\u001b[39mfilters)\n\u001b[0;32m-> 6822\u001b[0m \u001b[38;5;28;01mreturn\u001b[39;00m \u001b[43msq\u001b[49m\u001b[38;5;241;43m.\u001b[39;49m\u001b[43mget\u001b[49m\u001b[43m(\u001b[49m\u001b[43m)\u001b[49m\n",
      "File \u001b[0;32m~/.cache/pypoetry/virtualenvs/work-3UyvmeC2-py3.11/lib/python3.11/site-packages/peewee.py:7273\u001b[0m, in \u001b[0;36mBaseModelSelect.get\u001b[0;34m(self, database)\u001b[0m\n\u001b[1;32m   7271\u001b[0m \u001b[38;5;28;01mexcept\u001b[39;00m \u001b[38;5;167;01mIndexError\u001b[39;00m:\n\u001b[1;32m   7272\u001b[0m     sql, params \u001b[38;5;241m=\u001b[39m clone\u001b[38;5;241m.\u001b[39msql()\n\u001b[0;32m-> 7273\u001b[0m     \u001b[38;5;28;01mraise\u001b[39;00m \u001b[38;5;28mself\u001b[39m\u001b[38;5;241m.\u001b[39mmodel\u001b[38;5;241m.\u001b[39mDoesNotExist(\u001b[38;5;124m'\u001b[39m\u001b[38;5;132;01m%s\u001b[39;00m\u001b[38;5;124m instance matching query does \u001b[39m\u001b[38;5;124m'\u001b[39m\n\u001b[1;32m   7274\u001b[0m                                   \u001b[38;5;124m'\u001b[39m\u001b[38;5;124mnot exist:\u001b[39m\u001b[38;5;130;01m\\n\u001b[39;00m\u001b[38;5;124mSQL: \u001b[39m\u001b[38;5;132;01m%s\u001b[39;00m\u001b[38;5;130;01m\\n\u001b[39;00m\u001b[38;5;124mParams: \u001b[39m\u001b[38;5;132;01m%s\u001b[39;00m\u001b[38;5;124m'\u001b[39m \u001b[38;5;241m%\u001b[39m\n\u001b[1;32m   7275\u001b[0m                                   (clone\u001b[38;5;241m.\u001b[39mmodel, sql, params))\n",
      "\u001b[0;31mPaper_WebMetaInfoDoesNotExist\u001b[0m: <Model: Paper_WebMetaInfo> instance matching query does not exist:\nSQL: SELECT `t1`.`id`, `t1`.`paper_id`, `t1`.`visible`, `t1`.`cloudfilepath` FROM `paper_webmetainfo` AS `t1` WHERE (`t1`.`paper_id` = %s) LIMIT %s OFFSET %s\nParams: ['sa', 1, 0]"
     ]
    }
   ],
   "source": [
    "from peewee import DoesNotExist\n",
    "try:\n",
    "    get_cloudfilepath_from_paper_id(\"sa\")\n",
    "except DoesNotExist: \n",
    "    return \"DoesNotExist\", 504\n"
   ]
  },
  {
   "cell_type": "code",
   "execution_count": null,
   "metadata": {},
   "outputs": [],
   "source": []
  }
 ],
 "metadata": {
  "kernelspec": {
   "display_name": "work-3UyvmeC2-py3.11",
   "language": "python",
   "name": "python3"
  },
  "language_info": {
   "codemirror_mode": {
    "name": "ipython",
    "version": 3
   },
   "file_extension": ".py",
   "mimetype": "text/x-python",
   "name": "python",
   "nbconvert_exporter": "python",
   "pygments_lexer": "ipython3",
   "version": "3.11.9"
  }
 },
 "nbformat": 4,
 "nbformat_minor": 2
}

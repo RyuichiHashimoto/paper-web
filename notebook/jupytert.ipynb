{
 "cells": [
  {
   "cell_type": "code",
   "execution_count": 4,
   "metadata": {},
   "outputs": [],
   "source": [
    "from db.db import DB\n",
    "from db.model import Paper, Category, PaperCategory, Auther, PaperAuther, Chapter\n",
    "from datetime import date"
   ]
  },
  {
   "cell_type": "code",
   "execution_count": 5,
   "metadata": {},
   "outputs": [],
   "source": [
    "paper_list = [\n",
    "    {\n",
    "        \"paper_id\": \"P-00001\",\n",
    "        \"title\": \"Analysis of evolutionary multi-tasking as an island model\",\n",
    "        \"abstract\": \"This paper discusses innovative approaches to machine learning.\",\n",
    "        \"description\": \"\",\n",
    "        \"source_reference\": \"Proceedings of the genetic and evolutionary computation conference companion\",\n",
    "        \"url\": \"https://dl.acm.org/doi/abs/10.1145/3205651.3208228\",\n",
    "        \"public_date\": date(2023, 1, 15),\n",
    "        \"created_at\": date(2024, 6, 22),\n",
    "        \"last_modified\": date(2024, 6, 22)\n",
    "    }     \n",
    "]"
   ]
  },
  {
   "cell_type": "code",
   "execution_count": 12,
   "metadata": {},
   "outputs": [
    {
     "data": {
      "text/plain": [
       "0"
      ]
     },
     "execution_count": 12,
     "metadata": {},
     "output_type": "execute_result"
    }
   ],
   "source": [
    "Paper.insert_many(paper_list).execute()"
   ]
  },
  {
   "cell_type": "code",
   "execution_count": 8,
   "metadata": {},
   "outputs": [],
   "source": [
    "auther_list = [\n",
    "    {\n",
    "        \"auther_id\": \"A-00001\",\n",
    "        \"name\": \"Ryuichi Hashimoto\",\n",
    "        \"affiliation\": \"Osaka Prefecture University\",\n",
    "    },\n",
    "    {\n",
    "        \"auther_id\": \"A-00002\",\n",
    "        \"name\": \" Hisao Ishibuchi\",\n",
    "        \"affiliation\": \"Osaka Prefecture University\",\n",
    "    },\n",
    "    {\n",
    "        \"auther_id\": \"A-00003\",\n",
    "        \"name\": \"Naoki Masuyama\",\n",
    "        \"affiliation\": \"Osaka Prefecture University\",\n",
    "    },\n",
    "    {\n",
    "        \"auther_id\": \"A-00004\",\n",
    "        \"name\": \"Yusuke Nojima\",\n",
    "        \"affiliation\": \"Osaka Prefecture University\",\n",
    "    }\n",
    "]"
   ]
  },
  {
   "cell_type": "code",
   "execution_count": 9,
   "metadata": {},
   "outputs": [
    {
     "data": {
      "text/plain": [
       "0"
      ]
     },
     "execution_count": 9,
     "metadata": {},
     "output_type": "execute_result"
    }
   ],
   "source": [
    "Auther.insert_many(auther_list).execute()"
   ]
  },
  {
   "cell_type": "code",
   "execution_count": 10,
   "metadata": {},
   "outputs": [],
   "source": [
    "paper_auther_list = [\n",
    "    {\n",
    "        \"paper_id\":\"P-00001\",\n",
    "        \"auther_id\":\"A-00001\"\n",
    "    },\n",
    "    {\n",
    "        \"paper_id\":\"P-00001\",\n",
    "        \"auther_id\":\"A-00002\"\n",
    "    },\n",
    "    {\n",
    "        \"paper_id\":\"P-00001\",\n",
    "        \"auther_id\":\"A-00003\"\n",
    "    },\n",
    "    {\n",
    "        \"paper_id\":\"P-00001\",\n",
    "        \"auther_id\":\"A-00004\"\n",
    "    },\n",
    "\n",
    "]"
   ]
  },
  {
   "cell_type": "code",
   "execution_count": 13,
   "metadata": {},
   "outputs": [
    {
     "data": {
      "text/plain": [
       "0"
      ]
     },
     "execution_count": 13,
     "metadata": {},
     "output_type": "execute_result"
    }
   ],
   "source": [
    "PaperAuther.insert_many(paper_auther_list).execute()    "
   ]
  },
  {
   "cell_type": "code",
   "execution_count": 15,
   "metadata": {},
   "outputs": [],
   "source": [
    "category_list = [\n",
    "    {\n",
    "        \"category_id\":\"C-00001\",\n",
    "        \"category\":\"multi-tasking\"\n",
    "    },\n",
    "    {\n",
    "        \"category_id\":\"C-00002\",\n",
    "        \"category\":\"island model\"\n",
    "    }\n",
    "]"
   ]
  },
  {
   "cell_type": "code",
   "execution_count": 16,
   "metadata": {},
   "outputs": [
    {
     "data": {
      "text/plain": [
       "0"
      ]
     },
     "execution_count": 16,
     "metadata": {},
     "output_type": "execute_result"
    }
   ],
   "source": [
    "Category.insert_many(category_list).execute()"
   ]
  },
  {
   "cell_type": "code",
   "execution_count": null,
   "metadata": {},
   "outputs": [],
   "source": [
    "paper_category_list = [\n",
    "    {\n",
    "        \"paper_id\": \"P-00001\",\n",
    "        \"category_id\": \"C-00001\"\n",
    "    },\n",
    "    {\n",
    "        \"paper_id\": \"P-00001\",\n",
    "        \"category_id\": \"C-00002\"\n",
    "    }\n",
    "\n",
    "]"
   ]
  }
 ],
 "metadata": {
  "kernelspec": {
   "display_name": "work-3UyvmeC2-py3.11",
   "language": "python",
   "name": "python3"
  },
  "language_info": {
   "codemirror_mode": {
    "name": "ipython",
    "version": 3
   },
   "file_extension": ".py",
   "mimetype": "text/x-python",
   "name": "python",
   "nbconvert_exporter": "python",
   "pygments_lexer": "ipython3",
   "version": "3.11.9"
  }
 },
 "nbformat": 4,
 "nbformat_minor": 2
}
